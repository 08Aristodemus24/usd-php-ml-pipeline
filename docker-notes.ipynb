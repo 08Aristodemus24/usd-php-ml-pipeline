{
 "cells": [
  {
   "cell_type": "markdown",
   "metadata": {},
   "source": [
    "```\n",
    "(base) C:\\Users\\LARRY\\Documents\\Scripts\\data-pipeline>docker-compose --version\n",
    "Docker Compose version v2.31.0-desktop.2\n",
    "```"
   ]
  },
  {
   "cell_type": "markdown",
   "metadata": {},
   "source": [
    "```\n",
    "(base) C:\\Users\\LARRY\\Documents\\Scripts\\data-pipeline>docker network ls\n",
    "NETWORK ID     NAME      DRIVER    SCOPE\n",
    "cea1c38caf34   bridge    bridge    local\n",
    "08fa5de6749d   host      host      local\n",
    "12a7c1b89468   none      null      local\n",
    "```"
   ]
  },
  {
   "cell_type": "markdown",
   "metadata": {},
   "source": [
    "```\n",
    "(base) C:\\Users\\LARRY\\Documents\\Scripts\\data-pipeline>docker network create mongo-network\n",
    "eddaf9bc18a04b906bb18450fb8849369c3a26d50634e9b49b1e3bd66dc9eaa6\n",
    "\n",
    "(base) C:\\Users\\LARRY\\Documents\\Scripts\\data-pipeline>docker network ls\n",
    "NETWORK ID     NAME            DRIVER    SCOPE\n",
    "cea1c38caf34   bridge          bridge    local\n",
    "08fa5de6749d   host            host      local\n",
    "eddaf9bc18a0   mongo-network   bridge    local\n",
    "12a7c1b89468   none            null      local\n",
    "```"
   ]
  },
  {
   "cell_type": "markdown",
   "metadata": {},
   "source": [
    "`docker run -d -p 8081:8081 -e ME_CONFIG_MONGODB_ADMINUSERNAME=michael -e ME_CONFIG_MONGODB_ADMINPASSWORD=somesecretpass -e ME_CONFIG_MONGODB_SERVER=mongodb --net mongo-network --name mongo-express mongo-express`"
   ]
  },
  {
   "cell_type": "markdown",
   "metadata": {},
   "source": [
    "`docker run -d -p 27017:27017 -e MONGO_INITDB_ROOT_USERNAME=michael -e MONGO_INITDB_ROOT_PASSWORD=somesecretpass --network mongo-network --name mongodb mongo`"
   ]
  },
  {
   "cell_type": "markdown",
   "metadata": {},
   "source": [
    "in a docker file these docker individual docker commands would be the ff:\n",
    "```\n",
    "services:\n",
    "  mongodb:\n",
    "    image: mongo:latest\n",
    "    ports:\n",
    "      - 27017:27017\n",
    "    environment:\n",
    "      MONGO_INITDB_ROOT_USERNAME: michael\n",
    "      MONGO_INITDB_ROOT_PASSWORD: somesecretpass\n",
    "\n",
    "  mongo-express:\n",
    "    image: mongo-express:latest\n",
    "    ports: \n",
    "      - 8081:8081 \n",
    "    environment:\n",
    "      ME_CONFIG_MONGODB_ADMINUSERNAME: michael \n",
    "      ME_CONFIG_MONGODB_ADMINPASSWORD: somesecretpass \n",
    "      ME_CONFIG_MONGODB_SERVER: mongodb\n",
    "```"
   ]
  },
  {
   "cell_type": "markdown",
   "metadata": {},
   "source": [
    "```\n",
    "(base) C:\\Users\\LARRY\\Documents\\Scripts\\data-pipeline>docker ps\n",
    "CONTAINER ID   IMAGE           COMMAND                  CREATED          STATUS         PORTS                      NAMES\n",
    "12741f3288ef   mongo-express   \"/sbin/tini -- /dock…\"   10 seconds ago   Up 7 seconds   0.0.0.0:8081->8081/tcp     mongo-express\n",
    "152666f0eba6   mongo           \"docker-entrypoint.s…\"   7 minutes ago    Up 7 minutes   0.0.0.0:27017->27017/tcp   mongodb\n",
    "```"
   ]
  },
  {
   "cell_type": "markdown",
   "metadata": {},
   "source": [
    "```\n",
    "(base) C:\\Users\\LARRY\\Documents\\Scripts\\data-pipeline>docker rm 152666f0eba6 12741f3288ef\n",
    "152666f0eba6\n",
    "12741f3288ef\n",
    "\n",
    "(base) C:\\Users\\LARRY\\Documents\\Scripts\\data-pipeline>docker network rm mongo-network\n",
    "mongo-network\n",
    "```"
   ]
  },
  {
   "cell_type": "markdown",
   "metadata": {},
   "source": [
    "removing above to run the `docker-compose.yaml` file equivalent fo the aforementioned docker commands we ran. Now to run the mongo-services.yaml file containing the containers for each service we want to run simultaneously we run `docker compose -f <name of file>.yaml up`"
   ]
  },
  {
   "cell_type": "markdown",
   "metadata": {},
   "source": [
    "```\n",
    "(base) C:\\Users\\LARRY\\Documents\\Scripts\\data-pipeline>docker compose -f mongo-services.yaml down\n",
    "[+] Running 3/3\n",
    " ✔ Container data-pipeline-mongo-express-1  Removed                                                                0.1s\n",
    " ✔ Container data-pipeline-mongodb-1        Removed                                                                0.1s\n",
    " ✔ Network data-pipeline_default            Removed\n",
    "```"
   ]
  },
  {
   "cell_type": "markdown",
   "metadata": {},
   "source": [
    "# Building and rebuilding image in docker\n",
    "everytime we change our `docker-compose.yaml` file we need to rebuild it before running docker compose up or docker compose -f <name of file>.yaml up"
   ]
  }
 ],
 "metadata": {
  "language_info": {
   "name": "python"
  }
 },
 "nbformat": 4,
 "nbformat_minor": 2
}
